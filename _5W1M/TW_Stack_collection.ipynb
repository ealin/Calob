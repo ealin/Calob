{
  "nbformat": 4,
  "nbformat_minor": 0,
  "metadata": {
    "colab": {
      "name": "TW_Stack_collection.ipynb",
      "provenance": [],
      "collapsed_sections": [],
      "authorship_tag": "ABX9TyNPcQHVlUwcLwX7wBVdkheP",
      "include_colab_link": true
    },
    "kernelspec": {
      "name": "python3",
      "display_name": "Python 3"
    }
  },
  "cells": [
    {
      "cell_type": "markdown",
      "metadata": {
        "id": "view-in-github",
        "colab_type": "text"
      },
      "source": [
        "<a href=\"https://colab.research.google.com/github/ealin/Calob/blob/main/_5W1M/TW_Stack_collection.ipynb\" target=\"_parent\"><img src=\"https://colab.research.google.com/assets/colab-badge.svg\" alt=\"Open In Colab\"/></a>"
      ]
    },
    {
      "cell_type": "markdown",
      "metadata": {
        "id": "iV4DjYEHv9lm"
      },
      "source": [
        "\r\n",
        "*   以每日為單位, 收集台灣大盤以及相關資料\r\n",
        "*   輸出可視表格, 以及normalize後可供Keras training的格式 (.CVS)\r\n"
      ]
    },
    {
      "cell_type": "markdown",
      "metadata": {
        "id": "TUfy003Lwxrk"
      },
      "source": [
        "[Program] Sub-function of Stock Reader   (org. stock_reader.py)"
      ]
    },
    {
      "cell_type": "markdown",
      "metadata": {
        "id": "cHAmeCwRy0fT"
      },
      "source": [
        "# [Sub-functions] Stock Reader \r\n",
        "原 stock_reader.py"
      ]
    },
    {
      "cell_type": "code",
      "metadata": {
        "colab": {
          "base_uri": "https://localhost:8080/"
        },
        "id": "sIJZLUFcw79l",
        "outputId": "620fdf1d-b963-4bff-f0c5-6a17210ae5f2"
      },
      "source": [
        "# -*- coding: utf-8 -*-\r\n",
        "a = 5\r\n",
        "a\r\n"
      ],
      "execution_count": 8,
      "outputs": [
        {
          "output_type": "execute_result",
          "data": {
            "text/plain": [
              "5"
            ]
          },
          "metadata": {
            "tags": []
          },
          "execution_count": 8
        }
      ]
    },
    {
      "cell_type": "code",
      "metadata": {
        "id": "dwfkbAO-z8Gz"
      },
      "source": [
        "# this is console area\r\n"
      ],
      "execution_count": null,
      "outputs": []
    }
  ]
}