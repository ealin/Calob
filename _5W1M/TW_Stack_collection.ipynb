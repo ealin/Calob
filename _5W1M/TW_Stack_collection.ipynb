{
  "nbformat": 4,
  "nbformat_minor": 0,
  "metadata": {
    "colab": {
      "name": "TW_Stack_collection.ipynb",
      "provenance": [],
      "collapsed_sections": [],
      "authorship_tag": "ABX9TyPUPQAzEhADzouiWiLj0bdZ",
      "include_colab_link": true
    },
    "kernelspec": {
      "name": "python3",
      "display_name": "Python 3"
    }
  },
  "cells": [
    {
      "cell_type": "markdown",
      "metadata": {
        "id": "view-in-github",
        "colab_type": "text"
      },
      "source": [
        "<a href=\"https://colab.research.google.com/github/ealin/Calob/blob/main/_5W1M/TW_Stack_collection.ipynb\" target=\"_parent\"><img src=\"https://colab.research.google.com/assets/colab-badge.svg\" alt=\"Open In Colab\"/></a>"
      ]
    },
    {
      "cell_type": "markdown",
      "metadata": {
        "id": "iV4DjYEHv9lm"
      },
      "source": [
        "\r\n",
        "*   以每日為單位, 收集台灣大盤以及相關資料\r\n",
        "*   輸出可視表格, 以及normalize後可供Keras training的格式 (.CVS)\r\n"
      ]
    },
    {
      "cell_type": "markdown",
      "metadata": {
        "id": "TUfy003Lwxrk"
      },
      "source": [
        "[Program] Sub-function of Stock Reader   (org. stock_reader.py)"
      ]
    },
    {
      "cell_type": "code",
      "metadata": {
        "id": "sIJZLUFcw79l"
      },
      "source": [
        "# -*- coding: utf-8 -*-\r\n",
        "\r\n"
      ],
      "execution_count": null,
      "outputs": []
    }
  ]
}